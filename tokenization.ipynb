{
  "nbformat": 4,
  "nbformat_minor": 0,
  "metadata": {
    "colab": {
      "provenance": [],
      "authorship_tag": "ABX9TyN4GDwmltZh4XMWC9NhNNqd",
      "include_colab_link": true
    },
    "kernelspec": {
      "name": "python3",
      "display_name": "Python 3"
    },
    "language_info": {
      "name": "python"
    }
  },
  "cells": [
    {
      "cell_type": "markdown",
      "metadata": {
        "id": "view-in-github",
        "colab_type": "text"
      },
      "source": [
        "<a href=\"https://colab.research.google.com/github/22PA1A05G7/FML-LAB/blob/main/tokenization.ipynb\" target=\"_parent\"><img src=\"https://colab.research.google.com/assets/colab-badge.svg\" alt=\"Open In Colab\"/></a>"
      ]
    },
    {
      "cell_type": "markdown",
      "source": [
        "**USING SPLIT() FUNCTION**"
      ],
      "metadata": {
        "id": "AfyDMdFhSdSo"
      }
    },
    {
      "cell_type": "code",
      "execution_count": null,
      "metadata": {
        "id": "eugF_3wNRgpF"
      },
      "outputs": [],
      "source": [
        "example = '''Doris stood there, hand on hip, trying to figure out what to say. She’d already used up most of her standby phrases; things like, “Don’t forget, employees must wash their hands,” and “A smile will go a long way.” What worked for all the other ladies had not worked for this newest employee.\n",
        "\n",
        "“Wash your hands” had led to the new hire carefully removing one hand, rinsing it, reattaching it somewhat sloppily, then attempting to repeat the process with the other one. Encouraging her to smile had sent the entire first grade screaming and running away from the queue.\n",
        "\n",
        "Today, Doris had come to school ready for whatever came to mind. She’d thought to ask her fellow long-timers what they suggested. Looking hopelessly around the group, however, she realized they would not have any suggestions for the new girl. Rather, she had rubbed off on them already. They stood in a similar posture to hers, listlessly lolling their heads about and groaning. Doris cleared her throat anyway. Alerted, they all began shambling closer.'''"
      ]
    },
    {
      "cell_type": "code",
      "source": [
        "example = example.lower()\n",
        "example"
      ],
      "metadata": {
        "colab": {
          "base_uri": "https://localhost:8080/",
          "height": 105
        },
        "id": "ZPGignNpTAul",
        "outputId": "1e81dbb5-5d87-4639-bb0d-a885593c7786"
      },
      "execution_count": null,
      "outputs": [
        {
          "output_type": "execute_result",
          "data": {
            "text/plain": [
              "'doris stood there, hand on hip, trying to figure out what to say. she’d already used up most of her standby phrases; things like, “don’t forget, employees must wash their hands,” and “a smile will go a long way.” what worked for all the other ladies had not worked for this newest employee.\\n\\n“wash your hands” had led to the new hire carefully removing one hand, rinsing it, reattaching it somewhat sloppily, then attempting to repeat the process with the other one. encouraging her to smile had sent the entire first grade screaming and running away from the queue.\\n\\ntoday, doris had come to school ready for whatever came to mind. she’d thought to ask her fellow long-timers what they suggested. looking hopelessly around the group, however, she realized they would not have any suggestions for the new girl. rather, she had rubbed off on them already. they stood in a similar posture to hers, listlessly lolling their heads about and groaning. doris cleared her throat anyway. alerted, they all began shambling closer.'"
            ],
            "application/vnd.google.colaboratory.intrinsic+json": {
              "type": "string"
            }
          },
          "metadata": {},
          "execution_count": 5
        }
      ]
    },
    {
      "cell_type": "code",
      "source": [
        "words = example.split()\n",
        "words"
      ],
      "metadata": {
        "colab": {
          "base_uri": "https://localhost:8080/"
        },
        "id": "CMWK3gNvSPyy",
        "outputId": "86f6d246-152a-4af6-8b9f-8af483f7440e"
      },
      "execution_count": null,
      "outputs": [
        {
          "output_type": "execute_result",
          "data": {
            "text/plain": [
              "['doris',\n",
              " 'stood',\n",
              " 'there,',\n",
              " 'hand',\n",
              " 'on',\n",
              " 'hip,',\n",
              " 'trying',\n",
              " 'to',\n",
              " 'figure',\n",
              " 'out',\n",
              " 'what',\n",
              " 'to',\n",
              " 'say.',\n",
              " 'she’d',\n",
              " 'already',\n",
              " 'used',\n",
              " 'up',\n",
              " 'most',\n",
              " 'of',\n",
              " 'her',\n",
              " 'standby',\n",
              " 'phrases;',\n",
              " 'things',\n",
              " 'like,',\n",
              " '“don’t',\n",
              " 'forget,',\n",
              " 'employees',\n",
              " 'must',\n",
              " 'wash',\n",
              " 'their',\n",
              " 'hands,”',\n",
              " 'and',\n",
              " '“a',\n",
              " 'smile',\n",
              " 'will',\n",
              " 'go',\n",
              " 'a',\n",
              " 'long',\n",
              " 'way.”',\n",
              " 'what',\n",
              " 'worked',\n",
              " 'for',\n",
              " 'all',\n",
              " 'the',\n",
              " 'other',\n",
              " 'ladies',\n",
              " 'had',\n",
              " 'not',\n",
              " 'worked',\n",
              " 'for',\n",
              " 'this',\n",
              " 'newest',\n",
              " 'employee.',\n",
              " '“wash',\n",
              " 'your',\n",
              " 'hands”',\n",
              " 'had',\n",
              " 'led',\n",
              " 'to',\n",
              " 'the',\n",
              " 'new',\n",
              " 'hire',\n",
              " 'carefully',\n",
              " 'removing',\n",
              " 'one',\n",
              " 'hand,',\n",
              " 'rinsing',\n",
              " 'it,',\n",
              " 'reattaching',\n",
              " 'it',\n",
              " 'somewhat',\n",
              " 'sloppily,',\n",
              " 'then',\n",
              " 'attempting',\n",
              " 'to',\n",
              " 'repeat',\n",
              " 'the',\n",
              " 'process',\n",
              " 'with',\n",
              " 'the',\n",
              " 'other',\n",
              " 'one.',\n",
              " 'encouraging',\n",
              " 'her',\n",
              " 'to',\n",
              " 'smile',\n",
              " 'had',\n",
              " 'sent',\n",
              " 'the',\n",
              " 'entire',\n",
              " 'first',\n",
              " 'grade',\n",
              " 'screaming',\n",
              " 'and',\n",
              " 'running',\n",
              " 'away',\n",
              " 'from',\n",
              " 'the',\n",
              " 'queue.',\n",
              " 'today,',\n",
              " 'doris',\n",
              " 'had',\n",
              " 'come',\n",
              " 'to',\n",
              " 'school',\n",
              " 'ready',\n",
              " 'for',\n",
              " 'whatever',\n",
              " 'came',\n",
              " 'to',\n",
              " 'mind.',\n",
              " 'she’d',\n",
              " 'thought',\n",
              " 'to',\n",
              " 'ask',\n",
              " 'her',\n",
              " 'fellow',\n",
              " 'long-timers',\n",
              " 'what',\n",
              " 'they',\n",
              " 'suggested.',\n",
              " 'looking',\n",
              " 'hopelessly',\n",
              " 'around',\n",
              " 'the',\n",
              " 'group,',\n",
              " 'however,',\n",
              " 'she',\n",
              " 'realized',\n",
              " 'they',\n",
              " 'would',\n",
              " 'not',\n",
              " 'have',\n",
              " 'any',\n",
              " 'suggestions',\n",
              " 'for',\n",
              " 'the',\n",
              " 'new',\n",
              " 'girl.',\n",
              " 'rather,',\n",
              " 'she',\n",
              " 'had',\n",
              " 'rubbed',\n",
              " 'off',\n",
              " 'on',\n",
              " 'them',\n",
              " 'already.',\n",
              " 'they',\n",
              " 'stood',\n",
              " 'in',\n",
              " 'a',\n",
              " 'similar',\n",
              " 'posture',\n",
              " 'to',\n",
              " 'hers,',\n",
              " 'listlessly',\n",
              " 'lolling',\n",
              " 'their',\n",
              " 'heads',\n",
              " 'about',\n",
              " 'and',\n",
              " 'groaning.',\n",
              " 'doris',\n",
              " 'cleared',\n",
              " 'her',\n",
              " 'throat',\n",
              " 'anyway.',\n",
              " 'alerted,',\n",
              " 'they',\n",
              " 'all',\n",
              " 'began',\n",
              " 'shambling',\n",
              " 'closer.']"
            ]
          },
          "metadata": {},
          "execution_count": 6
        }
      ]
    },
    {
      "cell_type": "code",
      "source": [
        "sent_words = example.split('.')\n",
        "result = ' '.join(sent_words)\n",
        "result"
      ],
      "metadata": {
        "colab": {
          "base_uri": "https://localhost:8080/",
          "height": 105
        },
        "id": "8sa4zG8KSjPu",
        "outputId": "98388814-79fd-48f7-dea8-01a931d7fbb9"
      },
      "execution_count": null,
      "outputs": [
        {
          "output_type": "execute_result",
          "data": {
            "text/plain": [
              "'doris stood there, hand on hip, trying to figure out what to say  she’d already used up most of her standby phrases; things like, “don’t forget, employees must wash their hands,” and “a smile will go a long way ” what worked for all the other ladies had not worked for this newest employee \\n\\n“wash your hands” had led to the new hire carefully removing one hand, rinsing it, reattaching it somewhat sloppily, then attempting to repeat the process with the other one  encouraging her to smile had sent the entire first grade screaming and running away from the queue \\n\\ntoday, doris had come to school ready for whatever came to mind  she’d thought to ask her fellow long-timers what they suggested  looking hopelessly around the group, however, she realized they would not have any suggestions for the new girl  rather, she had rubbed off on them already  they stood in a similar posture to hers, listlessly lolling their heads about and groaning  doris cleared her throat anyway  alerted, they all began shambling closer '"
            ],
            "application/vnd.google.colaboratory.intrinsic+json": {
              "type": "string"
            }
          },
          "metadata": {},
          "execution_count": 7
        }
      ]
    },
    {
      "cell_type": "markdown",
      "source": [
        "**USING REGULAR EXPRESSION**"
      ],
      "metadata": {
        "id": "dk-lm9GtTHRS"
      }
    },
    {
      "cell_type": "code",
      "source": [
        "import re\n",
        "token = re.findall(\"[\\w']+\",example)\n",
        "result1 = ' '.join(token)\n",
        "result1"
      ],
      "metadata": {
        "colab": {
          "base_uri": "https://localhost:8080/",
          "height": 105
        },
        "id": "STMehk8CTW35",
        "outputId": "d436eea6-8379-4c63-b0c1-38119f0731a2"
      },
      "execution_count": null,
      "outputs": [
        {
          "output_type": "execute_result",
          "data": {
            "text/plain": [
              "'doris stood there hand on hip trying to figure out what to say she d already used up most of her standby phrases things like don t forget employees must wash their hands and a smile will go a long way what worked for all the other ladies had not worked for this newest employee wash your hands had led to the new hire carefully removing one hand rinsing it reattaching it somewhat sloppily then attempting to repeat the process with the other one encouraging her to smile had sent the entire first grade screaming and running away from the queue today doris had come to school ready for whatever came to mind she d thought to ask her fellow long timers what they suggested looking hopelessly around the group however she realized they would not have any suggestions for the new girl rather she had rubbed off on them already they stood in a similar posture to hers listlessly lolling their heads about and groaning doris cleared her throat anyway alerted they all began shambling closer'"
            ],
            "application/vnd.google.colaboratory.intrinsic+json": {
              "type": "string"
            }
          },
          "metadata": {},
          "execution_count": 11
        }
      ]
    },
    {
      "cell_type": "code",
      "source": [
        "sentences = re.compile('[.?!] ').split(example)\n",
        "sentences"
      ],
      "metadata": {
        "colab": {
          "base_uri": "https://localhost:8080/"
        },
        "id": "TBwte3ciVciL",
        "outputId": "161ab0a4-8d06-4c57-b70b-dd2acfbba148"
      },
      "execution_count": null,
      "outputs": [
        {
          "output_type": "execute_result",
          "data": {
            "text/plain": [
              "['doris stood there, hand on hip, trying to figure out what to say',\n",
              " 'she’d already used up most of her standby phrases; things like, “don’t forget, employees must wash their hands,” and “a smile will go a long way.” what worked for all the other ladies had not worked for this newest employee.\\n\\n“wash your hands” had led to the new hire carefully removing one hand, rinsing it, reattaching it somewhat sloppily, then attempting to repeat the process with the other one',\n",
              " 'encouraging her to smile had sent the entire first grade screaming and running away from the queue.\\n\\ntoday, doris had come to school ready for whatever came to mind',\n",
              " 'she’d thought to ask her fellow long-timers what they suggested',\n",
              " 'looking hopelessly around the group, however, she realized they would not have any suggestions for the new girl',\n",
              " 'rather, she had rubbed off on them already',\n",
              " 'they stood in a similar posture to hers, listlessly lolling their heads about and groaning',\n",
              " 'doris cleared her throat anyway',\n",
              " 'alerted, they all began shambling closer.']"
            ]
          },
          "metadata": {},
          "execution_count": 15
        }
      ]
    },
    {
      "cell_type": "markdown",
      "source": [
        "**USING NLTK**"
      ],
      "metadata": {
        "id": "F3rm92UIV-kG"
      }
    },
    {
      "cell_type": "code",
      "source": [
        "import nltk\n",
        "nltk.download('punkt')\n"
      ],
      "metadata": {
        "colab": {
          "base_uri": "https://localhost:8080/"
        },
        "id": "WA3sD7ZLWDFj",
        "outputId": "51d14778-777f-45ce-e07a-2ca411ad538f"
      },
      "execution_count": null,
      "outputs": [
        {
          "output_type": "stream",
          "name": "stderr",
          "text": [
            "[nltk_data] Downloading package punkt to /root/nltk_data...\n",
            "[nltk_data]   Package punkt is already up-to-date!\n"
          ]
        },
        {
          "output_type": "execute_result",
          "data": {
            "text/plain": [
              "True"
            ]
          },
          "metadata": {},
          "execution_count": 21
        }
      ]
    },
    {
      "cell_type": "code",
      "source": [
        "from nltk.tokenize import word_tokenize\n",
        "tokens = word_tokenize(example)\n",
        "tokens = \" \".join(tokens)\n",
        "tokens"
      ],
      "metadata": {
        "colab": {
          "base_uri": "https://localhost:8080/",
          "height": 193
        },
        "id": "2-sY8sCsWmx-",
        "outputId": "651f6b3e-5e36-4d25-ca1c-51d361431171"
      },
      "execution_count": null,
      "outputs": [
        {
          "output_type": "execute_result",
          "data": {
            "text/plain": [
              "'doris stood there , hand on hip , trying to figure out what to say . she ’ d already used up most of her standby phrases ; things like , “ don ’ t forget , employees must wash their hands , ” and “ a smile will go a long way. ” what worked for all the other ladies had not worked for this newest employee . “ wash your hands ” had led to the new hire carefully removing one hand , rinsing it , reattaching it somewhat sloppily , then attempting to repeat the process with the other one . encouraging her to smile had sent the entire first grade screaming and running away from the queue . today , doris had come to school ready for whatever came to mind . she ’ d thought to ask her fellow long-timers what they suggested . looking hopelessly around the group , however , she realized they would not have any suggestions for the new girl . rather , she had rubbed off on them already . they stood in a similar posture to hers , listlessly lolling their heads about and groaning . doris cleared her throat anyway . alerted , they all began shambling closer .'"
            ],
            "application/vnd.google.colaboratory.intrinsic+json": {
              "type": "string"
            }
          },
          "metadata": {},
          "execution_count": 23
        },
        {
          "output_type": "execute_result",
          "data": {
            "text/plain": [
              "'doris stood there , hand on hip , trying to figure out what to say . she ’ d already used up most of her standby phrases ; things like , “ don ’ t forget , employees must wash their hands , ” and “ a smile will go a long way. ” what worked for all the other ladies had not worked for this newest employee . “ wash your hands ” had led to the new hire carefully removing one hand , rinsing it , reattaching it somewhat sloppily , then attempting to repeat the process with the other one . encouraging her to smile had sent the entire first grade screaming and running away from the queue . today , doris had come to school ready for whatever came to mind . she ’ d thought to ask her fellow long-timers what they suggested . looking hopelessly around the group , however , she realized they would not have any suggestions for the new girl . rather , she had rubbed off on them already . they stood in a similar posture to hers , listlessly lolling their heads about and groaning . doris cleared her throat anyway . alerted , they all began shambling closer .'"
            ],
            "application/vnd.google.colaboratory.intrinsic+json": {
              "type": "string"
            }
          },
          "metadata": {},
          "execution_count": 24
        }
      ]
    },
    {
      "cell_type": "code",
      "source": [
        "from nltk.tokenize import sent_tokenize\n",
        "tokens1 = sent_tokenize(example)\n",
        "tokens1"
      ],
      "metadata": {
        "colab": {
          "base_uri": "https://localhost:8080/"
        },
        "id": "1yQTyyAdY_WP",
        "outputId": "ca16a8d0-b3d5-4f85-b9a2-b4764915c130"
      },
      "execution_count": null,
      "outputs": [
        {
          "output_type": "execute_result",
          "data": {
            "text/plain": [
              "['doris stood there, hand on hip, trying to figure out what to say.',\n",
              " 'she’d already used up most of her standby phrases; things like, “don’t forget, employees must wash their hands,” and “a smile will go a long way.” what worked for all the other ladies had not worked for this newest employee.',\n",
              " '“wash your hands” had led to the new hire carefully removing one hand, rinsing it, reattaching it somewhat sloppily, then attempting to repeat the process with the other one.',\n",
              " 'encouraging her to smile had sent the entire first grade screaming and running away from the queue.',\n",
              " 'today, doris had come to school ready for whatever came to mind.',\n",
              " 'she’d thought to ask her fellow long-timers what they suggested.',\n",
              " 'looking hopelessly around the group, however, she realized they would not have any suggestions for the new girl.',\n",
              " 'rather, she had rubbed off on them already.',\n",
              " 'they stood in a similar posture to hers, listlessly lolling their heads about and groaning.',\n",
              " 'doris cleared her throat anyway.',\n",
              " 'alerted, they all began shambling closer.']"
            ]
          },
          "metadata": {},
          "execution_count": 26
        }
      ]
    }
  ]
}