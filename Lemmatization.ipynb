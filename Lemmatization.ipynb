{
  "nbformat": 4,
  "nbformat_minor": 0,
  "metadata": {
    "colab": {
      "provenance": [],
      "authorship_tag": "ABX9TyO+Hctfkx10kFlqKttU/OOE",
      "include_colab_link": true
    },
    "kernelspec": {
      "name": "python3",
      "display_name": "Python 3"
    },
    "language_info": {
      "name": "python"
    }
  },
  "cells": [
    {
      "cell_type": "markdown",
      "metadata": {
        "id": "view-in-github",
        "colab_type": "text"
      },
      "source": [
        "<a href=\"https://colab.research.google.com/github/22PA1A05G7/FML-LAB/blob/main/Lemmatization.ipynb\" target=\"_parent\"><img src=\"https://colab.research.google.com/assets/colab-badge.svg\" alt=\"Open In Colab\"/></a>"
      ]
    },
    {
      "cell_type": "code",
      "execution_count": null,
      "metadata": {
        "colab": {
          "base_uri": "https://localhost:8080/"
        },
        "id": "0PJHyKf2aEo7",
        "outputId": "2bfae8c2-2e50-40bb-8f2c-3278b1021773"
      },
      "outputs": [
        {
          "output_type": "stream",
          "name": "stderr",
          "text": [
            "[nltk_data] Downloading package punkt to /root/nltk_data...\n",
            "[nltk_data]   Unzipping tokenizers/punkt.zip.\n"
          ]
        }
      ],
      "source": [
        "import nltk\n",
        "nltk.download('punkt')\n",
        "from nltk.stem import PorterStemmer\n",
        "from nltk.tokenize import sent_tokenize , word_tokenize"
      ]
    },
    {
      "cell_type": "code",
      "source": [
        "porter = PorterStemmer()\n",
        "example = '''Doris stood there, hand on hip, trying to figure out what to say. She’d already used up most of her standby phrases; things like, “Don’t forget, employees must wash their hands,” and “A smile will go a long way.” What worked for all the other ladies had not worked for this newest employee.\n",
        "\n",
        "“Wash your hands” had led to the new hire carefully removing one hand, rinsing it, reattaching it somewhat sloppily, then attempting to repeat the process with the other one. Encouraging her to smile had sent the entire first grade screaming and running away from the queue.\n",
        "\n",
        "Today, Doris had come to school ready for whatever came to mind. She’d thought to ask her fellow long-timers what they suggested. Looking hopelessly around the group, however, she realized they would not have any suggestions for the new girl. Rather, she had rubbed off on them already. They stood in a similar posture to hers, listlessly lolling their heads about and groaning. Doris cleared her throat anyway. Alerted, they all began shambling closer.'''"
      ],
      "metadata": {
        "id": "QxnKGBGiac3j"
      },
      "execution_count": null,
      "outputs": []
    },
    {
      "cell_type": "markdown",
      "source": [
        "**WORD LEMMATIZATION**"
      ],
      "metadata": {
        "id": "CTVSFxfsdWrd"
      }
    },
    {
      "cell_type": "code",
      "source": [
        "def stemWord(example):\n",
        "  token_words = word_tokenize(example)\n",
        "  stem_sent = []\n",
        "  for w in token_words:\n",
        "    stem_sent.append(porter.stem(w))\n",
        "    stem_sent.append(\" \")\n",
        "  return \"\".join(stem_sent)\n",
        "stemWord(example)"
      ],
      "metadata": {
        "colab": {
          "base_uri": "https://localhost:8080/",
          "height": 105
        },
        "id": "hgp7xr8Caoon",
        "outputId": "8061dd09-ad6e-4205-8a8d-59bc05da57db"
      },
      "execution_count": null,
      "outputs": [
        {
          "output_type": "execute_result",
          "data": {
            "text/plain": [
              "'dori stood there , hand on hip , tri to figur out what to say . she ’ d alreadi use up most of her standbi phrase ; thing like , “ don ’ t forget , employe must wash their hand , ” and “ a smile will go a long way. ” what work for all the other ladi had not work for thi newest employe . “ wash your hand ” had led to the new hire care remov one hand , rins it , reattach it somewhat sloppili , then attempt to repeat the process with the other one . encourag her to smile had sent the entir first grade scream and run away from the queue . today , dori had come to school readi for whatev came to mind . she ’ d thought to ask her fellow long-tim what they suggest . look hopelessli around the group , howev , she realiz they would not have ani suggest for the new girl . rather , she had rub off on them alreadi . they stood in a similar postur to her , listlessli loll their head about and groan . dori clear her throat anyway . alert , they all began shambl closer . '"
            ],
            "application/vnd.google.colaboratory.intrinsic+json": {
              "type": "string"
            }
          },
          "metadata": {},
          "execution_count": 11
        }
      ]
    },
    {
      "cell_type": "markdown",
      "source": [
        "**SENTENCE LEMMATIZATION**"
      ],
      "metadata": {
        "id": "tEUGFKIZdNUm"
      }
    },
    {
      "cell_type": "code",
      "source": [
        "def stemSentence(example):\n",
        "  sent_words = sent_tokenize(example)\n",
        "  stem_sentence = []\n",
        "  for w in sent_words:\n",
        "    stem_sentence.append(porter.stem(w))\n",
        "    stem_sentence.append(\" \")\n",
        "  return \"\".join(stem_sentence)\n",
        "stemSentence(example)"
      ],
      "metadata": {
        "colab": {
          "base_uri": "https://localhost:8080/",
          "height": 105
        },
        "id": "EMn9EfOwcQIE",
        "outputId": "bd256e9b-b3f6-4669-d977-f15d9d2bbb95"
      },
      "execution_count": null,
      "outputs": [
        {
          "output_type": "execute_result",
          "data": {
            "text/plain": [
              "'doris stood there, hand on hip, trying to figure out what to say. she’d already used up most of her standby phrases; things like, “don’t forget, employees must wash their hands,” and “a smile will go a long way.” what worked for all the other ladies had not worked for this newest employee. “wash your hands” had led to the new hire carefully removing one hand, rinsing it, reattaching it somewhat sloppily, then attempting to repeat the process with the other one. encouraging her to smile had sent the entire first grade screaming and running away from the queue. today, doris had come to school ready for whatever came to mind. she’d thought to ask her fellow long-timers what they suggested. looking hopelessly around the group, however, she realized they would not have any suggestions for the new girl. rather, she had rubbed off on them already. they stood in a similar posture to hers, listlessly lolling their heads about and groaning. doris cleared her throat anyway. alerted, they all began shambling closer. '"
            ],
            "application/vnd.google.colaboratory.intrinsic+json": {
              "type": "string"
            }
          },
          "metadata": {},
          "execution_count": 13
        }
      ]
    }
  ]
}